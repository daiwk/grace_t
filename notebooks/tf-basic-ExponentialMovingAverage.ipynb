{
 "cells": [
  {
   "cell_type": "markdown",
   "metadata": {},
   "source": [
    "# ExponentialMovingAverage\n",
    "\n",
    "shadow_variable 相当于上一个参数，variable相当于本次的参数\n",
    "\n",
    "```shadow_variable = decay * shadow_variable + (1 - decay) * variable```\n",
    "\n",
    "$decay=min\\{decay, \\frac{1+num\\_updates}{10+num\\_updates}\\}$\n"
   ]
  },
  {
   "cell_type": "code",
   "execution_count": 12,
   "metadata": {},
   "outputs": [
    {
     "name": "stdout",
     "output_type": "stream",
     "text": [
      "[0.0, 0.0]\n",
      "[5.0, 4.5]\n",
      "[10.0, 4.555]\n",
      "[30.0, 4.8094497]\n"
     ]
    }
   ],
   "source": [
    "import tensorflow as tf\n",
    "\n",
    "v1 = tf.Variable(0, dtype=tf.float32)\n",
    "step = tf.Variable(0, trainable=False)\n",
    "\n",
    "## 0.99是衰减率（decay）\n",
    "ema = tf.train.ExponentialMovingAverage(0.99, step)\n",
    "\n",
    "maintain_averages_op = ema.apply([v1])\n",
    "\n",
    "with tf.Session() as sess:\n",
    "    init_op = tf.global_variables_initializer()\n",
    "    sess.run(init_op)\n",
    "    \n",
    "    print(sess.run([v1, ema.average(v1)]))\n",
    "    \n",
    "    sess.run(tf.assign(v1, 5))\n",
    "    \n",
    "    sess.run(maintain_averages_op)\n",
    "    \n",
    "    print(sess.run([v1, ema.average(v1)])) ## step较小时，当前值的影响比较大\n",
    "    \n",
    "    sess.run(tf.assign(step, 10000)) ## (1+step)/(10+step)=0.999\n",
    "    \n",
    "    sess.run(tf.assign(v1, 10))\n",
    "    \n",
    "    sess.run(maintain_averages_op) \n",
    "    print(sess.run([v1, ema.average(v1)])) ## step较小时，当前值的影响比较小\n",
    "\n",
    "    sess.run(tf.assign(v1, 30))\n",
    "    \n",
    "    sess.run(maintain_averages_op)\n",
    "    print(sess.run([v1, ema.average(v1)]))"
   ]
  },
  {
   "cell_type": "code",
   "execution_count": null,
   "metadata": {},
   "outputs": [],
   "source": []
  }
 ],
 "metadata": {
  "kernelspec": {
   "display_name": "Python 3",
   "language": "python",
   "name": "python3"
  },
  "language_info": {
   "codemirror_mode": {
    "name": "ipython",
    "version": 3
   },
   "file_extension": ".py",
   "mimetype": "text/x-python",
   "name": "python",
   "nbconvert_exporter": "python",
   "pygments_lexer": "ipython3",
   "version": "3.6.1"
  }
 },
 "nbformat": 4,
 "nbformat_minor": 2
}
