{
 "cells": [
  {
   "cell_type": "code",
   "execution_count": 32,
   "metadata": {},
   "outputs": [
    {
     "name": "stdout",
     "output_type": "stream",
     "text": [
      "Tensor(\"x-input_30:0\", shape=(128, 2, 1), dtype=int64)\n",
      "Tensor(\"Reshape_34:0\", shape=(256,), dtype=int64)\n",
      "Tensor(\"one_hot_21:0\", shape=(256, 2000), dtype=float32)\n",
      "\n",
      "Tensor(\"embedding_lookup_13:0\", shape=(128, 2, 1, 100), dtype=float32)\n",
      "[Dimension(128), Dimension(2), Dimension(1)]\n",
      "Tensor(\"Reshape_35:0\", shape=(128, 2, 100), dtype=float32)\n",
      "\n",
      "Tensor(\"Slice_2:0\", shape=(76, 100), dtype=float32)\n"
     ]
    }
   ],
   "source": [
    "import tensorflow as tf\n",
    "\n",
    "vocab_size = 2000\n",
    "x = tf.placeholder(tf.int64, shape=(128, 2,1), name=\"x-input\")\n",
    "x1 = tf.reshape(x, [-1])\n",
    "one_hot_input_ids = tf.one_hot(x1,depth=vocab_size)\n",
    "print(x)\n",
    "print(x1)\n",
    "print(one_hot_input_ids)\n",
    "\n",
    "print()\n",
    "\n",
    "embedding_size = 100\n",
    "\n",
    "input_ids = tf.placeholder(tf.int64, shape=(128, 2,1))\n",
    "embedding_table = tf.placeholder(tf.float32, shape=(vocab_size, embedding_size))\n",
    "output = tf.nn.embedding_lookup(embedding_table, input_ids)\n",
    "input_shape = list(input_ids.shape)\n",
    "print(output)\n",
    "print(input_shape)\n",
    "\n",
    "output = tf.reshape(output,\n",
    "                      input_shape[0:-1] + [input_shape[-1] * embedding_size])\n",
    "print(output)\n",
    "print()\n",
    "\n",
    "\n",
    "max_position_embeddings = 512\n",
    "seq_length = 76\n",
    "full_position_embeddings = tf.placeholder(tf.float32, shape=(max_position_embeddings, embedding_size))\n",
    "position_embeddings = tf.slice(full_position_embeddings, [0, 0], [seq_length, -1])\n",
    "print(position_embeddings)"
   ]
  },
  {
   "cell_type": "code",
   "execution_count": null,
   "metadata": {},
   "outputs": [],
   "source": []
  }
 ],
 "metadata": {
  "kernelspec": {
   "display_name": "Python 3",
   "language": "python",
   "name": "python3"
  },
  "language_info": {
   "codemirror_mode": {
    "name": "ipython",
    "version": 3
   },
   "file_extension": ".py",
   "mimetype": "text/x-python",
   "name": "python",
   "nbconvert_exporter": "python",
   "pygments_lexer": "ipython3",
   "version": "3.6.1"
  }
 },
 "nbformat": 4,
 "nbformat_minor": 2
}
