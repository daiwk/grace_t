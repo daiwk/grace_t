{
 "cells": [
  {
   "cell_type": "code",
   "execution_count": 1,
   "metadata": {},
   "outputs": [
    {
     "name": "stdout",
     "output_type": "stream",
     "text": [
      "INFO:tensorflow:Restoring parameters from ./demo/model/model.ckpt\n",
      "[14.8]\n"
     ]
    }
   ],
   "source": [
    "import tensorflow as tf\n",
    "\n",
    "v1 = tf.Variable(tf.constant(1.0, shape=[1], name=\"v1\"))\n",
    "v2 = tf.Variable(tf.constant(13.8, shape=[1], name=\"v2\"))\n",
    "\n",
    "result = v1 + v2\n",
    "\n",
    "init_op = tf.global_variables_initializer()\n",
    "\n",
    "saver = tf.train.Saver()\n",
    "\n",
    "ckpt_path = \"./demo/model/model.ckpt\"\n",
    "\n",
    "with tf.Session() as sess:\n",
    "    sess.run(init_op)\n",
    "    saver.save(sess, ckpt_path)\n",
    "    \n",
    "#with tf.Session() as sess2: ## 直接加载模型\n",
    "#    saver.restore(sess2, ckpt_path)\n",
    "#    print(sess2.run(result))\n",
    "    \n",
    "with tf.Session() as sess3:\n",
    "    saver2 = tf.train.import_meta_graph(ckpt_path + \".meta\")\n",
    "    saver2.restore(sess3, ckpt_path)\n",
    "    print(sess3.run(tf.get_default_graph().get_tensor_by_name(\"add:0\")))"
   ]
  },
  {
   "cell_type": "code",
   "execution_count": 1,
   "metadata": {},
   "outputs": [
    {
     "name": "stdout",
     "output_type": "stream",
     "text": [
      "INFO:tensorflow:Restoring parameters from ./demo/model/model.ckpt\n",
      "[14.8]\n"
     ]
    }
   ],
   "source": [
    "import tensorflow as tf\n",
    "\n",
    "v1 = tf.Variable(tf.constant(1.0, shape=[1], name=\"other-v1\"))\n",
    "v2 = tf.Variable(tf.constant(13.8, shape=[1], name=\"other-v2\"))\n",
    "\n",
    "result = v1 + v2\n",
    "\n",
    "init_op = tf.global_variables_initializer()\n",
    "\n",
    "saver = tf.train.Saver({\"v1\": v1, \"v2\": v2})\n",
    "\n",
    "ckpt_path = \"./demo/model/model.ckpt\"\n",
    "\n",
    "with tf.Session() as sess:\n",
    "    sess.run(init_op)\n",
    "    saver.save(sess, ckpt_path)\n",
    "\n",
    "with tf.Session() as sess2: ## 直接加载模型\n",
    "    saver.restore(sess2, ckpt_path)\n",
    "    print(sess2.run(tf.get_default_graph().get_tensor_by_name(\"add:0\")))"
   ]
  },
  {
   "cell_type": "code",
   "execution_count": 1,
   "metadata": {},
   "outputs": [
    {
     "name": "stdout",
     "output_type": "stream",
     "text": [
      "111\n",
      "v:0\n",
      "222\n",
      "v:0\n",
      "v/ExponentialMovingAverage:0\n",
      "[10.0, 0.099999905]\n"
     ]
    }
   ],
   "source": [
    "# 先restart..\n",
    "import tensorflow as tf\n",
    "\n",
    "v = tf.Variable(0, dtype=tf.float32, name=\"v\")\n",
    "\n",
    "print(\"111\")\n",
    "for variables in tf.global_variables():\n",
    "    print(variables.name)\n",
    "    \n",
    "ema = tf.train.ExponentialMovingAverage(0.99)\n",
    "maintain_averages_op = ema.apply(tf.global_variables())\n",
    "\n",
    "print(\"222\")\n",
    "for variables in tf.global_variables():\n",
    "    print(variables.name)\n",
    "\n",
    "saver = tf.train.Saver()\n",
    "\n",
    "ckpt_path = \"./demo/model/moving_average_model.ckpt\"\n",
    "with tf.Session() as sess:\n",
    "    init_op = tf.global_variables_initializer()\n",
    "    sess.run(init_op)\n",
    "    sess.run(tf.assign(v, 10))\n",
    "    sess.run(maintain_averages_op)\n",
    "    saver.save(sess, ckpt_path)\n",
    "    print(sess.run([v, ema.average(v)]))"
   ]
  },
  {
   "cell_type": "code",
   "execution_count": 3,
   "metadata": {},
   "outputs": [
    {
     "name": "stdout",
     "output_type": "stream",
     "text": [
      "INFO:tensorflow:Restoring parameters from ./demo/model/moving_average_model.ckpt\n",
      "0.099999905\n"
     ]
    }
   ],
   "source": [
    "saver = tf.train.Saver({\"v/ExponentialMovingAverage\": v}) # 接着上面的那个一起跑，将v的滑动平均值重命名为v\n",
    "ckpt_path = \"./demo/model/moving_average_model.ckpt\"\n",
    "with tf.Session() as sess:\n",
    "    saver.restore(sess, ckpt_path)\n",
    "    print(sess.run(v))"
   ]
  },
  {
   "cell_type": "code",
   "execution_count": 4,
   "metadata": {},
   "outputs": [
    {
     "name": "stdout",
     "output_type": "stream",
     "text": [
      "{'v/ExponentialMovingAverage': <tf.Variable 'v:0' shape=() dtype=float32_ref>}\n",
      "INFO:tensorflow:Restoring parameters from ./demo/model/moving_average_model.ckpt\n",
      "0.099999905\n"
     ]
    }
   ],
   "source": [
    "print(ema.variables_to_restore())\n",
    "saver = tf.train.Saver(ema.variables_to_restore()) # 接着上面的上面的那个一起跑\n",
    "ckpt_path = \"./demo/model/moving_average_model.ckpt\"\n",
    "with tf.Session() as sess:\n",
    "    saver.restore(sess, ckpt_path)\n",
    "    print(sess.run(v))"
   ]
  },
  {
   "cell_type": "markdown",
   "metadata": {},
   "source": [
    "# 将变量和取值以常量形式放在同一个文件中\n",
    "默认tf.train.Saver会保存运行tf所需的全部信息，但在测试/离线预测时，并不需要这么多"
   ]
  },
  {
   "cell_type": "code",
   "execution_count": 5,
   "metadata": {},
   "outputs": [
    {
     "name": "stdout",
     "output_type": "stream",
     "text": [
      "INFO:tensorflow:Froze 2 variables.\n",
      "INFO:tensorflow:Converted 2 variables to const ops.\n"
     ]
    }
   ],
   "source": [
    "import tensorflow as tf\n",
    "\n",
    "from tensorflow.python.framework import graph_util\n",
    "\n",
    "v1 = tf.Variable(tf.constant(1.0, shape=[1]), name=\"v1\")\n",
    "v2 = tf.Variable(tf.constant(2.0, shape=[1]), name=\"v2\")\n",
    "result = v1 + v2\n",
    "\n",
    "init_op = tf.global_variables_initializer()\n",
    "\n",
    "constant_ckpt_path = \"./demo/model/constant_model.pb\"\n",
    "\n",
    "with tf.Session() as sess:\n",
    "    sess.run(init_op)\n",
    "    \n",
    "    graph_def = tf.get_default_graph().as_graph_def()\n",
    "    \n",
    "    # \"add\"是需要保存的节点名字，注意，是节点名字，所以不要:0(:0表示第0个输出)\n",
    "    output_graph_def = graph_util.convert_variables_to_constants(sess, graph_def, [\"add\"])\n",
    "    \n",
    "    with tf.gfile.GFile(constant_ckpt_path, \"wb\") as f:\n",
    "        f.write(output_graph_def.SerializeToString())\n"
   ]
  },
  {
   "cell_type": "code",
   "execution_count": 7,
   "metadata": {},
   "outputs": [
    {
     "name": "stdout",
     "output_type": "stream",
     "text": [
      "[array([3.], dtype=float32)]\n"
     ]
    }
   ],
   "source": [
    "from tensorflow.python.platform import gfile\n",
    "\n",
    "with tf.Session() as sess:\n",
    "    with gfile.FastGFile(constant_ckpt_path, \"rb\") as f:\n",
    "        graph_def = tf.GraphDef()\n",
    "        graph_def.ParseFromString(f.read())\n",
    "    # 这里add:0是张量名称，不是计算节点\n",
    "    result = tf.import_graph_def(graph_def, return_elements=[\"add:0\"])\n",
    "    \n",
    "    print(sess.run(result))"
   ]
  },
  {
   "cell_type": "markdown",
   "metadata": {},
   "source": [
    "# saver解析"
   ]
  },
  {
   "cell_type": "code",
   "execution_count": 1,
   "metadata": {},
   "outputs": [],
   "source": [
    "import tensorflow as tf\n",
    "\n",
    "v1 = tf.Variable(tf.constant(1.0, shape=[1], name=\"v1\"))\n",
    "v2 = tf.Variable(tf.constant(13.8, shape=[1], name=\"v2\"))\n",
    "\n",
    "result = v1 + v2\n",
    "\n",
    "init_op = tf.global_variables_initializer()\n",
    "\n",
    "saver = tf.train.Saver()\n",
    "\n",
    "ckpt_json_path = \"./demo/model/model.ckpt.meta.json\"\n",
    "\n",
    "saver.export_meta_graph(ckpt_json_path, as_text=True)\n",
    "\n",
    "ckpt_path = \"./demo/model/model.ckpt\"\n",
    "\n",
    "with tf.Session() as sess:\n",
    "    init_op = tf.global_variables_initializer()\n",
    "    sess.run(init_op)    \n",
    "    saver.save(sess, ckpt_path)"
   ]
  },
  {
   "cell_type": "code",
   "execution_count": 5,
   "metadata": {},
   "outputs": [
    {
     "name": "stdout",
     "output_type": "stream",
     "text": [
      "v2\n",
      "[1]\n",
      "v1\n",
      "[1]\n",
      "Value for variable v1 is  [1.]\n"
     ]
    }
   ],
   "source": [
    "import tensorflow as tf\n",
    "\n",
    "ckpt_path = \"./demo/model/model.ckpt\"\n",
    "reader = tf.train.NewCheckpointReader(ckpt_path)\n",
    "\n",
    "global_variables = reader.get_variable_to_shape_map()\n",
    "\n",
    "for variable_name in global_variables:\n",
    "    print(variable_name)\n",
    "    print(global_variables[variable_name])\n",
    "\n",
    "print(\"Value for variable v1 is \", reader.get_tensor(\"v1\"))"
   ]
  },
  {
   "cell_type": "code",
   "execution_count": null,
   "metadata": {},
   "outputs": [],
   "source": []
  }
 ],
 "metadata": {
  "kernelspec": {
   "display_name": "Python 3",
   "language": "python",
   "name": "python3"
  },
  "language_info": {
   "codemirror_mode": {
    "name": "ipython",
    "version": 3
   },
   "file_extension": ".py",
   "mimetype": "text/x-python",
   "name": "python",
   "nbconvert_exporter": "python",
   "pygments_lexer": "ipython3",
   "version": "3.6.1"
  }
 },
 "nbformat": 4,
 "nbformat_minor": 2
}
