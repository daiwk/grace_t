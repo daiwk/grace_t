{
 "cells": [
  {
   "cell_type": "markdown",
   "metadata": {},
   "source": [
    "# single layer neural network"
   ]
  },
  {
   "cell_type": "code",
   "execution_count": 60,
   "metadata": {},
   "outputs": [
    {
     "name": "stdout",
     "output_type": "stream",
     "text": [
      "[[-0.8113182   1.4845988   0.06532937]\n",
      " [-2.4427042   0.0992484   0.5912243 ]]\n",
      "[[-0.8113182 ]\n",
      " [ 1.4845988 ]\n",
      " [ 0.06532937]]\n",
      "After 0 training steps, cross entropy on all data is 8.60555\n",
      "After 1000 training steps, cross entropy on all data is 1.18626\n",
      "After 2000 training steps, cross entropy on all data is 1.04257\n",
      "After 3000 training steps, cross entropy on all data is 0.95908\n",
      "After 4000 training steps, cross entropy on all data is 0.875381\n",
      "[[-0.4646573   0.9296048   1.0087776 ]\n",
      " [-2.1772292  -0.36850733  1.2463576 ]]\n",
      "[[-0.24252824]\n",
      " [ 1.2319056 ]\n",
      " [-0.23045173]]\n"
     ]
    }
   ],
   "source": [
    "import tensorflow as tf\n",
    "\n",
    "from numpy.random import RandomState\n",
    "\n",
    "batch_size = 8\n",
    "\n",
    "w1 = tf.Variable(tf.random_normal([2,3], stddev=1, seed=1))\n",
    "w2 = tf.Variable(tf.random_normal([3,1], stddev=1, seed=1))\n",
    "\n",
    "x = tf.placeholder(tf.float32, shape=(None, 2), name=\"x-input\")\n",
    "y_ = tf.placeholder(tf.float32, shape=(None, 1), name=\"y-input\")\n",
    "\n",
    "\n",
    "#a = tf.nn.relu(tf.matmul(x, w1))\n",
    "a = tf.nn.sigmoid(tf.matmul(x, w1))\n",
    "#a = tf.tanh(tf.matmul(x, w1))\n",
    "\n",
    "y = tf.matmul(a, w2)\n",
    "\n",
    "cross_entropy = -tf.reduce_mean(y_ * tf.log(tf.clip_by_value(y, 1e-10, 1.0)) \n",
    "                               + (1 - y_) * tf.log(tf.clip_by_value(1-y, 1e-10, 1.0)))\n",
    "\n",
    "train_step = tf.train.AdamOptimizer(0.001).minimize(cross_entropy)\n",
    "\n",
    "dataset_size = 128\n",
    "\n",
    "rdm = RandomState(1)\n",
    "X = rdm.rand(dataset_size, 2)\n",
    "\n",
    "Y = [[int(x1 + x2 < 1)] for (x1, x2) in X]\n",
    "\n",
    "\n",
    "with tf.Session() as sess:\n",
    "    init_op = tf.global_variables_initializer()\n",
    "    sess.run(init_op)\n",
    "    \n",
    "    print(sess.run(w1))\n",
    "    print(sess.run(w2))\n",
    "    \n",
    "    STEPS = 5000\n",
    "    for i in range(STEPS):\n",
    "        start = (i * batch_size) % dataset_size\n",
    "        end = min(start + batch_size, dataset_size)\n",
    "        #print(Y[start:end])\n",
    "        #print(X[start:end])\n",
    "        sess.run(train_step, feed_dict={x: X[start:end], y_: Y[start:end]})\n",
    "        if i % 1000 == 0:\n",
    "            total_cross_entropy = sess.run(\n",
    "            cross_entropy, feed_dict={x: X, y_: Y})\n",
    "            print(\"After %d training steps, cross entropy on all data is %g\" % (i, total_cross_entropy))\n",
    "    print(sess.run(w1))  \n",
    "    print(sess.run(w2))  \n",
    "    "
   ]
  },
  {
   "cell_type": "code",
   "execution_count": null,
   "metadata": {},
   "outputs": [],
   "source": []
  }
 ],
 "metadata": {
  "kernelspec": {
   "display_name": "Python 3",
   "language": "python",
   "name": "python3"
  },
  "language_info": {
   "codemirror_mode": {
    "name": "ipython",
    "version": 3
   },
   "file_extension": ".py",
   "mimetype": "text/x-python",
   "name": "python",
   "nbconvert_exporter": "python",
   "pygments_lexer": "ipython3",
   "version": "3.6.1"
  }
 },
 "nbformat": 4,
 "nbformat_minor": 2
}
